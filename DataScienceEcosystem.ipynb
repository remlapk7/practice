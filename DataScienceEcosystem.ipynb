{
 "cells": [
  {
   "cell_type": "markdown",
   "id": "14b8770c-60d8-41d4-b3e5-e2697c6fa0cc",
   "metadata": {},
   "source": [
    "# Data Science Tools and Ecosystem"
   ]
  },
  {
   "cell_type": "markdown",
   "id": "f8015204-2b5d-40b7-879b-904966b9b1e8",
   "metadata": {},
   "source": [
    "## In this notebook, Data Science Tools and Ecosystems are summarized."
   ]
  },
  {
   "cell_type": "markdown",
   "id": "a7e3ded3-3f9c-48ce-a03a-62da5e44406d",
   "metadata": {},
   "source": [
    "# **Objectives**\n",
    " * List Popular Launguages for Data Science\n",
    " * List Commonly used libraries by Data Scientists\n",
    " * Showing examples of arithmetic in Python\n",
    " * Creating tables"
   ]
  },
  {
   "cell_type": "markdown",
   "id": "42091cd6-1410-4838-95ed-a79e7e2512d6",
   "metadata": {},
   "source": [
    "## Some of the popular languages that Data Scientists use are:\n",
    "1. Python\n",
    "2. R\n",
    "3. Scala\n",
    "4. Java\n",
    "5. Julia"
   ]
  },
  {
   "cell_type": "markdown",
   "id": "a213dd4e-23ef-437c-9e24-a9472edb85ef",
   "metadata": {},
   "source": [
    "## Some of the commonly used libraries used by Data Scientists include:\n",
    "1.  Panda\n",
    "2.  Numpy\n",
    "3.  Matplotlib\n",
    "4.  Scikit-learn\n",
    "5.  Tensorflow\n",
    "6.  Apache Spark"
   ]
  },
  {
   "cell_type": "markdown",
   "id": "c5277e6d-c8e4-4be6-bd7c-727f762b31ae",
   "metadata": {},
   "source": [
    "| Data Science Tools |\n",
    "| ----- |\n",
    "| MySQL |\n",
    "| PostgreSQL |\n",
    "| MongoDB |\n",
    "| ApacheCouchDB |\n",
    "| Apache Cassandra |\n",
    "| Hadoop |"
   ]
  },
  {
   "cell_type": "markdown",
   "id": "155ec7a8-7382-4ab4-805b-9accb4875fcc",
   "metadata": {},
   "source": [
    "### Below are a few examples of evaluating arithmetic expressions in Python."
   ]
  },
  {
   "cell_type": "code",
   "execution_count": 2,
   "id": "4f2f60f3-cc92-4ead-aa2c-f2ff97e89d0e",
   "metadata": {},
   "outputs": [
    {
     "data": {
      "text/plain": [
       "17"
      ]
     },
     "execution_count": 2,
     "metadata": {},
     "output_type": "execute_result"
    }
   ],
   "source": [
    "# This is a simple arithmetic expression to multiply then add integers.\n",
    "(3*4)+5"
   ]
  },
  {
   "cell_type": "code",
   "execution_count": 3,
   "id": "1cd5395e-c7f0-4398-b418-a71309c351fd",
   "metadata": {},
   "outputs": [
    {
     "data": {
      "text/plain": [
       "3.3333333333333335"
      ]
     },
     "execution_count": 3,
     "metadata": {},
     "output_type": "execute_result"
    }
   ],
   "source": [
    "# This will convert 200 minutes to hours by dividing by 60.\n",
    "200/60"
   ]
  },
  {
   "cell_type": "markdown",
   "id": "0bdf8c01-981f-4b4b-b8b1-e1e84c885650",
   "metadata": {},
   "source": [
    "## Author\n",
    "Kristen Walker"
   ]
  },
  {
   "cell_type": "code",
   "execution_count": null,
   "id": "b47edc9b-13ae-4221-b8fb-1282e2fee301",
   "metadata": {},
   "outputs": [],
   "source": []
  }
 ],
 "metadata": {
  "kernelspec": {
   "display_name": "Python 3 (ipykernel)",
   "language": "python",
   "name": "python3"
  },
  "language_info": {
   "codemirror_mode": {
    "name": "ipython",
    "version": 3
   },
   "file_extension": ".py",
   "mimetype": "text/x-python",
   "name": "python",
   "nbconvert_exporter": "python",
   "pygments_lexer": "ipython3",
   "version": "3.12.7"
  }
 },
 "nbformat": 4,
 "nbformat_minor": 5
}
